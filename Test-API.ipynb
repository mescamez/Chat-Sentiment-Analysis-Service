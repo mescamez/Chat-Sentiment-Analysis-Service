{
 "cells": [
  {
   "cell_type": "code",
   "execution_count": 2,
   "metadata": {},
   "outputs": [],
   "source": [
    "from pymongo import MongoClient\n",
    "import requests"
   ]
  },
  {
   "cell_type": "markdown",
   "metadata": {},
   "source": [
    "# Add Users"
   ]
  },
  {
   "cell_type": "code",
   "execution_count": 17,
   "metadata": {},
   "outputs": [
    {
     "name": "stdout",
     "output_type": "stream",
     "text": [
      "[{'$oid': '5eaefe18dd5f51f810c8e012'}, {'username': 'Liam'}]\n",
      "[{'$oid': '5eaefe18dd5f51f810c8e013'}, {'username': 'Emma'}]\n",
      "[{'$oid': '5eaefe18dd5f51f810c8e014'}, {'username': 'Noah'}]\n",
      "[{'$oid': '5eaefe18dd5f51f810c8e015'}, {'username': 'Olivia'}]\n",
      "[{'$oid': '5eaefe18dd5f51f810c8e016'}, {'username': 'William'}]\n",
      "[{'$oid': '5eaefe18dd5f51f810c8e017'}, {'username': 'Ava'}]\n"
     ]
    }
   ],
   "source": [
    "for n in ['Liam', 'Emma', 'Noah', 'Olivia', 'William', 'Ava']:\n",
    "    print(requests.get(f\"http://localhost:3500/user/create/{n}\").json())"
   ]
  },
  {
   "cell_type": "markdown",
   "metadata": {},
   "source": [
    "# Create Chat"
   ]
  },
  {
   "cell_type": "code",
   "execution_count": 47,
   "metadata": {},
   "outputs": [
    {
     "name": "stdout",
     "output_type": "stream",
     "text": [
      "[{'$oid': '5eae888c42214bb5ce68c23e'}, {'Theme': 'Photography'}]\n",
      "[{'$oid': '5eae888c42214bb5ce68c23f'}, {'Theme': 'Food & Cooking'}]\n",
      "[{'$oid': '5eae888c42214bb5ce68c240'}, {'Theme': 'Literature'}]\n",
      "[{'$oid': '5eae888c42214bb5ce68c241'}, {'Theme': 'Music'}]\n",
      "[{'$oid': '5eae888c42214bb5ce68c242'}, {'Theme': 'Fashion'}]\n"
     ]
    }
   ],
   "source": [
    "for n in ['Photography', 'Food & Cooking', 'Literature', 'Music', 'Fashion']:\n",
    "    print(requests.get(f\"http://localhost:3500/chat/create/{n}\").json())"
   ]
  },
  {
   "cell_type": "markdown",
   "metadata": {},
   "source": [
    "# Obtain Ids from users"
   ]
  },
  {
   "cell_type": "code",
   "execution_count": 18,
   "metadata": {},
   "outputs": [
    {
     "data": {
      "text/plain": [
       "['5eaefe18dd5f51f810c8e012',\n",
       " '5eaefe18dd5f51f810c8e013',\n",
       " '5eaefe18dd5f51f810c8e014',\n",
       " '5eaefe18dd5f51f810c8e015',\n",
       " '5eaefe18dd5f51f810c8e016',\n",
       " '5eaefe18dd5f51f810c8e017']"
      ]
     },
     "execution_count": 18,
     "metadata": {},
     "output_type": "execute_result"
    }
   ],
   "source": [
    "def obtainIds(lst):\n",
    "    ids=[]\n",
    "    for n in lst:\n",
    "        ids.append(requests.get(f\"http://localhost:3500/user/get/{n}\").json())\n",
    "    ids_clean=[]\n",
    "    for i in ids:\n",
    "        for values in i.items():\n",
    "            ids_clean.append(values[1])\n",
    "    return ids_clean\n",
    "users = ['Liam', 'Emma', 'Noah', 'Olivia', 'William', 'Ava']\n",
    "obtainIds(users)"
   ]
  },
  {
   "cell_type": "markdown",
   "metadata": {},
   "source": [
    "# Add users into a chat"
   ]
  },
  {
   "cell_type": "code",
   "execution_count": 19,
   "metadata": {},
   "outputs": [
    {
     "name": "stdout",
     "output_type": "stream",
     "text": [
      "User 5eaefe18dd5f51f810c8e012 add to chat 5eae888c42214bb5ce68c23e\n",
      "User 5eaefe18dd5f51f810c8e013 add to chat 5eae888c42214bb5ce68c23e\n",
      "User 5eaefe18dd5f51f810c8e014 add to chat 5eae888c42214bb5ce68c23e\n",
      "User 5eaefe18dd5f51f810c8e015 add to chat 5eae888c42214bb5ce68c23e\n",
      "User 5eaefe18dd5f51f810c8e016 add to chat 5eae888c42214bb5ce68c23e\n",
      "User 5eaefe18dd5f51f810c8e017 add to chat 5eae888c42214bb5ce68c23e\n"
     ]
    }
   ],
   "source": [
    "for n in obtainIds(users):\n",
    "    print(requests.get(f\"http://localhost:3500/chat/5eae888c42214bb5ce68c23e/adduser/{n}\").json())"
   ]
  },
  {
   "cell_type": "markdown",
   "metadata": {},
   "source": [
    "# Add messages"
   ]
  },
  {
   "cell_type": "code",
   "execution_count": 28,
   "metadata": {},
   "outputs": [
    {
     "name": "stdout",
     "output_type": "stream",
     "text": [
      "Message sent correctly to chat 5eae888c42214bb5ce68c23f at 2020-05-03 19:32:58.450176\n"
     ]
    }
   ],
   "source": [
    "message = {\n",
    "    'chat_id': '5eae888c42214bb5ce68c23f',\n",
    "    'user_id': '5eaeffd3dd5f51f810c8e01d',\n",
    "    'text': \"in UK we call 'canadian bacon' bacon and burger bacon 'streaky bacon'\"\n",
    "}\n",
    "\n",
    "print(requests.get(f\"http://localhost:3500/chat/{message['chat_id']}/{message['user_id']}/{message['text']}\").json())"
   ]
  },
  {
   "cell_type": "code",
   "execution_count": 21,
   "metadata": {},
   "outputs": [
    {
     "name": "stdout",
     "output_type": "stream",
     "text": [
      "Message sent correctly to chat 5eae888c42214bb5ce68c23f at 2020-05-03 19:26:18.778995\n"
     ]
    }
   ],
   "source": [
    "message = {\n",
    "    'chat_id': '5eae888c42214bb5ce68c23f',\n",
    "    'user_id': '5eaefe18dd5f51f810c8e013',\n",
    "    'text': \"It's best with pepperoni because it's really salty. But the key is no more than 2 or 3 pieces of pineapple per slice. It needs to be used very sparingly.\"\n",
    "}\n",
    "\n",
    "print(requests.get(f\"http://localhost:3500/chat/{message['chat_id']}/{message['user_id']}/{message['text']}\").json())"
   ]
  },
  {
   "cell_type": "code",
   "execution_count": 22,
   "metadata": {},
   "outputs": [
    {
     "name": "stdout",
     "output_type": "stream",
     "text": [
      "Message sent correctly to chat 5eae888c42214bb5ce68c23f at 2020-05-03 19:27:41.618021\n"
     ]
    }
   ],
   "source": [
    "message = {\n",
    "    'chat_id': '5eae888c42214bb5ce68c23f',\n",
    "    'user_id': '5eaefe18dd5f51f810c8e014',\n",
    "    'text': \"Canadian bacon is called back bacon in canada.\"\n",
    "}\n",
    "\n",
    "print(requests.get(f\"http://localhost:3500/chat/{message['chat_id']}/{message['user_id']}/{message['text']}\").json())"
   ]
  },
  {
   "cell_type": "code",
   "execution_count": 23,
   "metadata": {},
   "outputs": [
    {
     "name": "stdout",
     "output_type": "stream",
     "text": [
      "Message sent correctly to chat 5eae888c42214bb5ce68c23f at 2020-05-03 19:28:12.498555\n"
     ]
    }
   ],
   "source": [
    "message = {\n",
    "    'chat_id': '5eae888c42214bb5ce68c23f',\n",
    "    'user_id': '5eaefe18dd5f51f810c8e015',\n",
    "    'text': \"Insanely based.\"\n",
    "}\n",
    "\n",
    "print(requests.get(f\"http://localhost:3500/chat/{message['chat_id']}/{message['user_id']}/{message['text']}\").json())"
   ]
  },
  {
   "cell_type": "code",
   "execution_count": 24,
   "metadata": {},
   "outputs": [
    {
     "name": "stdout",
     "output_type": "stream",
     "text": [
      "Message sent correctly to chat 5eae888c42214bb5ce68c23f at 2020-05-03 19:28:53.918478\n"
     ]
    }
   ],
   "source": [
    "message = {\n",
    "    'chat_id': '5eae888c42214bb5ce68c23f',\n",
    "    'user_id': '5eaefe18dd5f51f810c8e016',\n",
    "    'text': \"No the fuck it's not OP you cum guzzling faggot fuck the sick piece of shit that ever thought pineapple is a good pizza topping. Pepperoni, onions, and green peppers is where it's at.\"\n",
    "}\n",
    "\n",
    "print(requests.get(f\"http://localhost:3500/chat/{message['chat_id']}/{message['user_id']}/{message['text']}\").json())"
   ]
  },
  {
   "cell_type": "markdown",
   "metadata": {},
   "source": [
    "# Get chat list"
   ]
  },
  {
   "cell_type": "code",
   "execution_count": 25,
   "metadata": {},
   "outputs": [
    {
     "data": {
      "text/plain": [
       "[{'message_id': {'$oid': '5eae907f42214bb5ce68c24a'},\n",
       "  'user_id': '5ead280fe444f83be7f34c47',\n",
       "  'text': \"Honestly, I don't get the controversy around pineapple on pizza. This shit's delicious.\",\n",
       "  'time': {'$date': 1588505759794}},\n",
       " {'message_id': {'$oid': '5eae909442214bb5ce68c24b'},\n",
       "  'user_id': '5ead280fe444f83be7f34c48',\n",
       "  'text': 'Agreed Its nice',\n",
       "  'time': {'$date': 1588505780316}},\n",
       " {'message_id': {'$oid': '5eae90a242214bb5ce68c24c'},\n",
       "  'user_id': '5ead280fe444f83be7f34c49',\n",
       "  'text': 'With hotsauce',\n",
       "  'time': {'$date': 1588505794715}},\n",
       " {'message_id': {'$oid': '5eae90b942214bb5ce68c24d'},\n",
       "  'user_id': '5ead280fe444f83be7f34c4a',\n",
       "  'text': 'this. bit of spice helps cut through the sweet pineapple and ham',\n",
       "  'time': {'$date': 1588505817200}},\n",
       " {'message_id': {'$oid': '5eae90e942214bb5ce68c24f'},\n",
       "  'user_id': '5ead280fe444f83be7f34c4b',\n",
       "  'text': 'Yeah same, its nice. Never understood why people like pepperoni on pizza tho',\n",
       "  'time': {'$date': 1588505865425}},\n",
       " {'message_id': {'$oid': '5eaefe9add5f51f810c8e018'},\n",
       "  'user_id': '5eaefe18dd5f51f810c8e012',\n",
       "  'text': 'The pineapple argument is a meme for people with no personality',\n",
       "  'time': {'$date': 1588533946499}},\n",
       " {'message_id': {'$oid': '5eaefebadd5f51f810c8e019'},\n",
       "  'user_id': '5eaefe18dd5f51f810c8e013',\n",
       "  'text': \"It's best with pepperoni because it's really salty. But the key is no more than 2 or 3 pieces of pineapple per slice. It needs to be used very sparingly.\",\n",
       "  'time': {'$date': 1588533978778}},\n",
       " {'message_id': {'$oid': '5eaeff0ddd5f51f810c8e01a'},\n",
       "  'user_id': '5eaefe18dd5f51f810c8e014',\n",
       "  'text': 'Canadian bacon is called back bacon in canada.',\n",
       "  'time': {'$date': 1588534061617}},\n",
       " {'message_id': {'$oid': '5eaeff2cdd5f51f810c8e01b'},\n",
       "  'user_id': '5eaefe18dd5f51f810c8e015',\n",
       "  'text': 'Insanely based.',\n",
       "  'time': {'$date': 1588534092497}},\n",
       " {'message_id': {'$oid': '5eaeff55dd5f51f810c8e01c'},\n",
       "  'user_id': '5eaefe18dd5f51f810c8e016',\n",
       "  'text': \"No the fuck it's not OP you cum guzzling faggot fuck the sick piece of shit that ever thought pineapple is a good pizza topping. Pepperoni, onions, and green peppers is where it's at.\",\n",
       "  'time': {'$date': 1588534133916}}]"
      ]
     },
     "execution_count": 25,
     "metadata": {},
     "output_type": "execute_result"
    }
   ],
   "source": [
    "requests.get(f\"http://localhost:3500/chat/get/5eae888c42214bb5ce68c23f/list\").json()"
   ]
  },
  {
   "cell_type": "markdown",
   "metadata": {},
   "source": [
    "# Analyze messages"
   ]
  },
  {
   "cell_type": "code",
   "execution_count": 26,
   "metadata": {},
   "outputs": [
    {
     "data": {
      "text/plain": [
       "[{'message': \"Honestly, I don't get the controversy around pineapple on pizza. This shit's delicious.\",\n",
       "  'time': {'$date': 1588505759794},\n",
       "  'user_id': '5ead280fe444f83be7f34c47',\n",
       "  'sentiment': {'neg': 0.0, 'neu': 0.599, 'pos': 0.401, 'compound': 0.7717}},\n",
       " {'message': 'Agreed Its nice',\n",
       "  'time': {'$date': 1588505780316},\n",
       "  'user_id': '5ead280fe444f83be7f34c48',\n",
       "  'sentiment': {'neg': 0.0, 'neu': 0.169, 'pos': 0.831, 'compound': 0.5994}},\n",
       " {'message': 'With hotsauce',\n",
       "  'time': {'$date': 1588505794715},\n",
       "  'user_id': '5ead280fe444f83be7f34c49',\n",
       "  'sentiment': {'neg': 0.0, 'neu': 1.0, 'pos': 0.0, 'compound': 0.0}},\n",
       " {'message': 'this. bit of spice helps cut through the sweet pineapple and ham',\n",
       "  'time': {'$date': 1588505817200},\n",
       "  'user_id': '5ead280fe444f83be7f34c4a',\n",
       "  'sentiment': {'neg': 0.126, 'neu': 0.539, 'pos': 0.335, 'compound': 0.5423}},\n",
       " {'message': 'Yeah same, its nice. Never understood why people like pepperoni on pizza tho',\n",
       "  'time': {'$date': 1588505865425},\n",
       "  'user_id': '5ead280fe444f83be7f34c4b',\n",
       "  'sentiment': {'neg': 0.0, 'neu': 0.571, 'pos': 0.429, 'compound': 0.7579}},\n",
       " {'message': 'The pineapple argument is a meme for people with no personality',\n",
       "  'time': {'$date': 1588533946499},\n",
       "  'user_id': '5eaefe18dd5f51f810c8e012',\n",
       "  'sentiment': {'neg': 0.37, 'neu': 0.63, 'pos': 0.0, 'compound': -0.5719}},\n",
       " {'message': \"It's best with pepperoni because it's really salty. But the key is no more than 2 or 3 pieces of pineapple per slice. It needs to be used very sparingly.\",\n",
       "  'time': {'$date': 1588533978778},\n",
       "  'user_id': '5eaefe18dd5f51f810c8e013',\n",
       "  'sentiment': {'neg': 0.068, 'neu': 0.802, 'pos': 0.13, 'compound': 0.4588}},\n",
       " {'message': 'Canadian bacon is called back bacon in canada.',\n",
       "  'time': {'$date': 1588534061617},\n",
       "  'user_id': '5eaefe18dd5f51f810c8e014',\n",
       "  'sentiment': {'neg': 0.0, 'neu': 1.0, 'pos': 0.0, 'compound': 0.0}},\n",
       " {'message': 'Insanely based.',\n",
       "  'time': {'$date': 1588534092497},\n",
       "  'user_id': '5eaefe18dd5f51f810c8e015',\n",
       "  'sentiment': {'neg': 0.0, 'neu': 1.0, 'pos': 0.0, 'compound': 0.0}},\n",
       " {'message': \"No the fuck it's not OP you cum guzzling faggot fuck the sick piece of shit that ever thought pineapple is a good pizza topping. Pepperoni, onions, and green peppers is where it's at.\",\n",
       "  'time': {'$date': 1588534133916},\n",
       "  'user_id': '5eaefe18dd5f51f810c8e016',\n",
       "  'sentiment': {'neg': 0.415,\n",
       "   'neu': 0.526,\n",
       "   'pos': 0.059,\n",
       "   'compound': -0.9559}}]"
      ]
     },
     "execution_count": 26,
     "metadata": {},
     "output_type": "execute_result"
    }
   ],
   "source": [
    "requests.get(f\"http://localhost:3500/chat/5eae888c42214bb5ce68c23f/sentiment\").json()"
   ]
  },
  {
   "cell_type": "markdown",
   "metadata": {},
   "source": [
    "# Recommend"
   ]
  },
  {
   "cell_type": "code",
   "execution_count": 77,
   "metadata": {},
   "outputs": [
    {
     "data": {
      "text/plain": [
       "[['5eaefe18dd5f51f810c8e016', 0.37497010880390613],\n",
       " ['5eaefe18dd5f51f810c8e012', 0.2711630722733202],\n",
       " ['5ead280fe444f83be7f34c4a', 0.14852213144650114]]"
      ]
     },
     "execution_count": 77,
     "metadata": {},
     "output_type": "execute_result"
    }
   ],
   "source": [
    "requests.get(f\"http://localhost:3500/user/5eaefe18dd5f51f810c8e013/recommend\").json()"
   ]
  }
 ],
 "metadata": {
  "kernelspec": {
   "display_name": "Python 3",
   "language": "python",
   "name": "python3"
  },
  "language_info": {
   "codemirror_mode": {
    "name": "ipython",
    "version": 3
   },
   "file_extension": ".py",
   "mimetype": "text/x-python",
   "name": "python",
   "nbconvert_exporter": "python",
   "pygments_lexer": "ipython3",
   "version": "3.7.6"
  }
 },
 "nbformat": 4,
 "nbformat_minor": 4
}
